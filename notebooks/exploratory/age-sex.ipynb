{
 "cells": [
  {
   "cell_type": "code",
   "execution_count": 1,
   "metadata": {},
   "outputs": [],
   "source": [
    "# OPTIONAL: Load the \"autoreload\" extension so that code can change\n",
    "%reload_ext autoreload\n",
    "\n",
    "# OPTIONAL: always reload modules so that as you change code in src, it gets loaded\n",
    "%autoreload 2\n",
    "\n",
    "import pandas as pd\n",
    "from pathlib import Path\n",
    "\n",
    "from src.data.import_census_datasets import get_census_1991_to_2016_pictou_county\n",
    "\n",
    "from IPython.core.interactiveshell import InteractiveShell\n",
    "InteractiveShell.ast_node_interactivity = \"all\"\n",
    "\n",
    "import seaborn as sns\n",
    "import matplotlib.pyplot as plt\n",
    "\n",
    "%matplotlib inline"
   ]
  },
  {
   "cell_type": "code",
   "execution_count": 2,
   "metadata": {},
   "outputs": [],
   "source": [
    "data_path = Path(\"../../data\")  # points to the notebook folder\n",
    "processed_path = data_path / \"processed\""
   ]
  },
  {
   "cell_type": "code",
   "execution_count": 3,
   "metadata": {},
   "outputs": [
    {
     "data": {
      "text/plain": [
       "583"
      ]
     },
     "execution_count": 3,
     "metadata": {},
     "output_type": "execute_result"
    },
    {
     "data": {
      "text/plain": [
       "Age            int64\n",
       "Female       float64\n",
       "Male         float64\n",
       "Total        float64\n",
       "Year           int64\n",
       "AgeGroup    category\n",
       "dtype: object"
      ]
     },
     "execution_count": 3,
     "metadata": {},
     "output_type": "execute_result"
    },
    {
     "data": {
      "text/plain": [
       "Index(['Age', 'Female', 'Male', 'Total', 'Year', 'AgeGroup'], dtype='object')"
      ]
     },
     "execution_count": 3,
     "metadata": {},
     "output_type": "execute_result"
    }
   ],
   "source": [
    "df = pd.read_pickle(processed_path / \"census_1991_to_2016_pictou_county.pickle\")\n",
    "len(df)\n",
    "df.dtypes\n",
    "df.columns"
   ]
  },
  {
   "cell_type": "code",
   "execution_count": 4,
   "metadata": {},
   "outputs": [
    {
     "data": {
      "image/png": "[encoded data removed]",
      "text/plain": [
       "<Figure size 432x288 with 2 Axes>"
      ]
     },
     "metadata": {
      "needs_background": "light"
     },
     "output_type": "display_data"
    }
   ],
   "source": [
    "fig, axes = plt.subplots(ncols=2, sharey=True)\n",
    "\n",
    "left_year = 1991\n",
    "right_year = 2016\n",
    "\n",
    "sns.barplot(\n",
    "    x=\"Total\",\n",
    "    y=\"AgeGroup\",\n",
    "    color=\"darkblue\",\n",
    "    ax=axes[0],\n",
    "    data=df[df.Year == left_year],\n",
    ")\n",
    "sns.barplot(\n",
    "    x=\"Total\",\n",
    "    y=\"AgeGroup\",\n",
    "    color=\"darkred\",\n",
    "    ax=axes[1],\n",
    "    data=df[df.Year == right_year],\n",
    ")\n",
    "\n",
    "axes[0].invert_xaxis()\n",
    "axes[0].yaxis.tick_right()\n",
    "axes[0].set_title(left_year)\n",
    "axes[1].set_title(right_year)\n",
    "axes[0].set(xlabel=\"Population (Count)\", ylabel=\"Ages\")\n",
    "axes[1].set(xlabel=\"Population (Count)\", ylabel=\"\")\n",
    "fig.suptitle(\"Population Pyramid (Pictou County)\")\n",
    "\n",
    "plt.show();"
   ]
  }
 ],
 "metadata": {
  "kernelspec": {
   "display_name": "changing-pictou-county",
   "language": "python",
   "name": "changing-pictou-county"
  },
  "language_info": {
   "codemirror_mode": {
    "name": "ipython",
    "version": 3
   },
   "file_extension": ".py",
   "mimetype": "text/x-python",
   "name": "python",
   "nbconvert_exporter": "python",
   "pygments_lexer": "ipython3",
   "version": "3.7.3"
  }
 },
 "nbformat": 4,
 "nbformat_minor": 2
}
